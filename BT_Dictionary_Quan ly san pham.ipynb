{
 "cells": [
  {
   "cell_type": "code",
   "execution_count": 10,
   "id": "30a68a60",
   "metadata": {},
   "outputs": [
    {
     "name": "stdout",
     "output_type": "stream",
     "text": [
      "Người dùng nhập chức năng: S\n",
      "Nhập id của sản phẩm muốn sửa tên: 2\n",
      "Nhập tên sản phẩm mới: bún mộc\n",
      "{'1': 'phở bò', '2': 'bún mộc'}\n",
      "---------------------\n",
      "Người dùng nhập chức năng: X\n",
      "Nhập id của sản phẩm muốn xoá: 1\n",
      "{'2': 'bún mộc'}\n",
      "---------------------\n",
      "Người dùng nhập chức năng: exit\n"
     ]
    }
   ],
   "source": [
    "#### Tạo Dictionary chứa vài sản phẩm\n",
    "D_sp = {\"1\":\"phở bò\",\"2\":\"phở gà\"}\n",
    "\n",
    "while True:\n",
    "    func = input('Người dùng nhập chức năng: ')\n",
    "\n",
    "    # Hiển thị danh sách sản phẩm\n",
    "    if func == \"H\":\n",
    "        print(D_sp)\n",
    "        print('---------------------')\n",
    "\n",
    "    ## Thêm sản phẩm mới vào danh sách\n",
    "    elif func == \"T\":\n",
    "        while True:\n",
    "            id = input('Nhập ID muốn thêm vào: ')\n",
    "            if id in D_sp:\n",
    "                print('ID bị trùng, vui lòng nhập ID mới. ')\n",
    "                continue\n",
    "            else:\n",
    "                value = input('nhập vào giá trị: ')\n",
    "                D_sp[id] = value\n",
    "                print(D_sp)\n",
    "                print('---------------------')\n",
    "                break\n",
    "\n",
    "    ### Sửa tên sản phẩm trong danh sách\n",
    "    elif func == \"S\":\n",
    "        sp = input('Nhập id của sản phẩm muốn sửa tên: ')\n",
    "        value_s = input('Nhập tên sản phẩm mới: ')\n",
    "        D_sp[sp] = value_s\n",
    "        print(D_sp)\n",
    "        print('---------------------')\n",
    "\n",
    "    #### Xoá 1 sản phẩm ra khỏi danh sách\n",
    "    elif func == \"X\":\n",
    "        sp = input('Nhập id của sản phẩm muốn xoá: ')\n",
    "        del D_sp[sp]\n",
    "        print(D_sp)\n",
    "        print('---------------------')\n",
    "        \n",
    "    elif func == 'exit':\n",
    "        break\n",
    "\n",
    "    else:\n",
    "        print('nhập chức năng không hợp lệ. Vui lòng nhập lại H, T, S, hoặc X.')\n",
    "        print('---------------------')\n"
   ]
  }
 ],
 "metadata": {
  "kernelspec": {
   "display_name": "Python 3 (ipykernel)",
   "language": "python",
   "name": "python3"
  },
  "language_info": {
   "codemirror_mode": {
    "name": "ipython",
    "version": 3
   },
   "file_extension": ".py",
   "mimetype": "text/x-python",
   "name": "python",
   "nbconvert_exporter": "python",
   "pygments_lexer": "ipython3",
   "version": "3.10.4"
  }
 },
 "nbformat": 4,
 "nbformat_minor": 5
}
